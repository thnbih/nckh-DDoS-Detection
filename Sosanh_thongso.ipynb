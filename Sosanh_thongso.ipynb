{
  "nbformat": 4,
  "nbformat_minor": 0,
  "metadata": {
    "colab": {
      "provenance": []
    },
    "kernelspec": {
      "name": "python3",
      "display_name": "Python 3"
    },
    "language_info": {
      "name": "python"
    }
  },
  "cells": [
    {
      "cell_type": "code",
      "execution_count": null,
      "metadata": {
        "id": "yMSd-ei21ZfD",
        "colab": {
          "base_uri": "https://localhost:8080/"
        },
        "outputId": "87a4056c-dcda-40e2-897d-97e0a110d7bf"
      },
      "outputs": [
        {
          "output_type": "stream",
          "name": "stdout",
          "text": [
            "Drive already mounted at /content/drive; to attempt to forcibly remount, call drive.mount(\"/content/drive\", force_remount=True).\n"
          ]
        }
      ],
      "source": [
        "import pandas as pd\n",
        "from sklearn.model_selection import train_test_split\n",
        "from sklearn.preprocessing import StandardScaler\n",
        "from sklearn.decomposition import PCA\n",
        "from sklearn.ensemble import RandomForestClassifier\n",
        "from sklearn.metrics import accuracy_score, f1_score\n",
        "import matplotlib.pyplot as plt\n",
        "from google.colab import drive\n",
        "drive.mount('/content/drive')"
      ]
    },
    {
      "cell_type": "code",
      "source": [
        "Path = '/content/drive/MyDrive/dataset'"
      ],
      "metadata": {
        "id": "4xzOTRBT1gSf"
      },
      "execution_count": null,
      "outputs": []
    },
    {
      "cell_type": "markdown",
      "source": [
        "#Load data file UDP, UDPLag, Portmap, Syn\n",
        "\n"
      ],
      "metadata": {
        "id": "fdstKcw91wF9"
      }
    },
    {
      "cell_type": "code",
      "source": [
        "# csv_file = Path + '/Syn.csv'\n",
        "# chunksize = 10000\n",
        "# chunks = []\n",
        "# for chunk in pd.read_csv(csv_file, chunksize=chunksize):\n",
        "#         chunks.append(chunk)\n",
        "# data_syn = pd.concat(chunks)\n",
        "# del chunks"
      ],
      "metadata": {
        "id": "12p1F7hBdTua"
      },
      "execution_count": null,
      "outputs": []
    },
    {
      "cell_type": "code",
      "source": [
        "csv_file_udp = Path + '/UDP.csv'\n",
        "chunksize = 10000\n",
        "chunks = []\n",
        "for chunk in pd.read_csv(csv_file_udp, chunksize=chunksize):\n",
        "    chunks.append(chunk)\n",
        "data_udp = pd.concat(chunks)\n",
        "del chunks"
      ],
      "metadata": {
        "colab": {
          "base_uri": "https://localhost:8080/"
        },
        "id": "EKUlBAragL7K",
        "outputId": "b5a461a0-9560-419a-fba2-0a7fbc25c071"
      },
      "execution_count": null,
      "outputs": [
        {
          "output_type": "stream",
          "name": "stderr",
          "text": [
            "<ipython-input-4-4b7acfd52a2a>:4: DtypeWarning: Columns (85) have mixed types. Specify dtype option on import or set low_memory=False.\n",
            "  for chunk in pd.read_csv(csv_file_udp, chunksize=chunksize):\n",
            "<ipython-input-4-4b7acfd52a2a>:4: DtypeWarning: Columns (85) have mixed types. Specify dtype option on import or set low_memory=False.\n",
            "  for chunk in pd.read_csv(csv_file_udp, chunksize=chunksize):\n",
            "<ipython-input-4-4b7acfd52a2a>:4: DtypeWarning: Columns (85) have mixed types. Specify dtype option on import or set low_memory=False.\n",
            "  for chunk in pd.read_csv(csv_file_udp, chunksize=chunksize):\n",
            "<ipython-input-4-4b7acfd52a2a>:4: DtypeWarning: Columns (85) have mixed types. Specify dtype option on import or set low_memory=False.\n",
            "  for chunk in pd.read_csv(csv_file_udp, chunksize=chunksize):\n",
            "<ipython-input-4-4b7acfd52a2a>:4: DtypeWarning: Columns (85) have mixed types. Specify dtype option on import or set low_memory=False.\n",
            "  for chunk in pd.read_csv(csv_file_udp, chunksize=chunksize):\n",
            "<ipython-input-4-4b7acfd52a2a>:4: DtypeWarning: Columns (85) have mixed types. Specify dtype option on import or set low_memory=False.\n",
            "  for chunk in pd.read_csv(csv_file_udp, chunksize=chunksize):\n",
            "<ipython-input-4-4b7acfd52a2a>:4: DtypeWarning: Columns (85) have mixed types. Specify dtype option on import or set low_memory=False.\n",
            "  for chunk in pd.read_csv(csv_file_udp, chunksize=chunksize):\n",
            "<ipython-input-4-4b7acfd52a2a>:4: DtypeWarning: Columns (85) have mixed types. Specify dtype option on import or set low_memory=False.\n",
            "  for chunk in pd.read_csv(csv_file_udp, chunksize=chunksize):\n",
            "<ipython-input-4-4b7acfd52a2a>:4: DtypeWarning: Columns (85) have mixed types. Specify dtype option on import or set low_memory=False.\n",
            "  for chunk in pd.read_csv(csv_file_udp, chunksize=chunksize):\n",
            "<ipython-input-4-4b7acfd52a2a>:4: DtypeWarning: Columns (85) have mixed types. Specify dtype option on import or set low_memory=False.\n",
            "  for chunk in pd.read_csv(csv_file_udp, chunksize=chunksize):\n",
            "<ipython-input-4-4b7acfd52a2a>:4: DtypeWarning: Columns (85) have mixed types. Specify dtype option on import or set low_memory=False.\n",
            "  for chunk in pd.read_csv(csv_file_udp, chunksize=chunksize):\n",
            "<ipython-input-4-4b7acfd52a2a>:4: DtypeWarning: Columns (85) have mixed types. Specify dtype option on import or set low_memory=False.\n",
            "  for chunk in pd.read_csv(csv_file_udp, chunksize=chunksize):\n",
            "<ipython-input-4-4b7acfd52a2a>:4: DtypeWarning: Columns (85) have mixed types. Specify dtype option on import or set low_memory=False.\n",
            "  for chunk in pd.read_csv(csv_file_udp, chunksize=chunksize):\n",
            "<ipython-input-4-4b7acfd52a2a>:4: DtypeWarning: Columns (85) have mixed types. Specify dtype option on import or set low_memory=False.\n",
            "  for chunk in pd.read_csv(csv_file_udp, chunksize=chunksize):\n",
            "<ipython-input-4-4b7acfd52a2a>:4: DtypeWarning: Columns (85) have mixed types. Specify dtype option on import or set low_memory=False.\n",
            "  for chunk in pd.read_csv(csv_file_udp, chunksize=chunksize):\n"
          ]
        }
      ]
    },
    {
      "cell_type": "code",
      "source": [
        "# List of different dataset paths\n",
        "data_udplag = pd.read_csv(Path + '/UDPLag.csv')\n",
        "data_portmap = pd.read_csv(Path + '/Portmap.csv')\n",
        "\n",
        "dataset_paths = [data_udp, data_udplag, data_portmap]"
      ],
      "metadata": {
        "id": "pQkbV4ZE7aed",
        "colab": {
          "base_uri": "https://localhost:8080/"
        },
        "outputId": "9131c64f-fb89-4a6b-8b37-3059888395f2"
      },
      "execution_count": null,
      "outputs": [
        {
          "output_type": "stream",
          "name": "stderr",
          "text": [
            "<ipython-input-5-e500ae532568>:2: DtypeWarning: Columns (85) have mixed types. Specify dtype option on import or set low_memory=False.\n",
            "  data_udplag = pd.read_csv(Path + '/UDPLag.csv')\n",
            "<ipython-input-5-e500ae532568>:3: DtypeWarning: Columns (85) have mixed types. Specify dtype option on import or set low_memory=False.\n",
            "  data_portmap = pd.read_csv(Path + '/Portmap.csv')\n"
          ]
        }
      ]
    },
    {
      "cell_type": "markdown",
      "source": [
        "Lists to store performance results"
      ],
      "metadata": {
        "id": "CK3LswDO7gn-"
      }
    },
    {
      "cell_type": "code",
      "source": [
        "accuracies = []\n",
        "f1_scores = []"
      ],
      "metadata": {
        "id": "3wOY4f3C8qSA"
      },
      "execution_count": null,
      "outputs": []
    },
    {
      "cell_type": "markdown",
      "source": [
        "# Feature extraction"
      ],
      "metadata": {
        "id": "VxKomrvr9DdK"
      }
    },
    {
      "cell_type": "code",
      "source": [
        "import numpy as np\n",
        "for data in dataset_paths:\n",
        "\n",
        "    # Select features and labels\n",
        "    X = data[[' Total Fwd Packets', 'Total Length of Fwd Packets', ' Flow Duration', ' Flow Packets/s']]\n",
        "    y = data[' Label']\n",
        "\n",
        "    # Split into train and test sets\n",
        "    X_train, X_test, y_train, y_test = train_test_split(X, y, test_size=0.2, random_state=42)\n",
        "\n",
        "    # print(np.isinf(X_train).sum())\n",
        "    # print(np.max(X_train))\n",
        "    # print(np.isinf(X_test).sum())\n",
        "    # print(np.max(X_test))\n",
        "\n",
        "    X_train.replace([np.inf, -np.inf], np.nan, inplace=True)\n",
        "    X_train.fillna(X_train.mean(), inplace=True)\n",
        "    X_test.replace([np.inf, -np.inf], np.nan, inplace=True)\n",
        "    X_test.fillna(X_test.mean(), inplace=True)\n",
        "\n",
        "    # Normalize data\n",
        "    scaler = StandardScaler()\n",
        "    X_train = scaler.fit_transform(X_train)\n",
        "    X_test = scaler.transform(X_test)\n",
        "\n",
        "    # PCA for feature reduction\n",
        "    pca = PCA(n_components=4)\n",
        "    X_train_pca = pca.fit_transform(X_train)\n",
        "    X_test_pca = pca.transform(X_test)\n",
        "\n",
        "    # Create a Random Forest classifier\n",
        "    rf = RandomForestClassifier(n_estimators=30, random_state=42)\n",
        "\n",
        "    # Train the classifier\n",
        "    rf.fit(X_train_pca, y_train)\n",
        "\n",
        "    # Predict on the test data\n",
        "    y_pred = rf.predict(X_test_pca)\n",
        "\n",
        "    # Calculate accuracy and F1-score\n",
        "    accuracy = accuracy_score(y_test, y_pred)\n",
        "    f1 = f1_score(y_test, y_pred, average='weighted')\n",
        "\n",
        "    # Store the results\n",
        "    accuracies.append(accuracy)\n",
        "    f1_scores.append(f1)"
      ],
      "metadata": {
        "id": "Rbvvm6q38wYs"
      },
      "execution_count": null,
      "outputs": []
    },
    {
      "cell_type": "markdown",
      "source": [
        "# Print results for each dataset"
      ],
      "metadata": {
        "id": "BvT5ovQ39KKn"
      }
    },
    {
      "cell_type": "code",
      "source": [
        "# Extract dataset names\n",
        "dataset_names = ['UDP','UDPLag', 'Portmap']"
      ],
      "metadata": {
        "id": "bOjVR9rImAOl"
      },
      "execution_count": null,
      "outputs": []
    },
    {
      "cell_type": "code",
      "source": [
        "for i, dataset in enumerate(dataset_paths):\n",
        "    dataset_name = dataset_names[i]\n",
        "    print(f\"Dataset: {dataset_name}\")\n",
        "    print(f\"Accuracy: {accuracies[i]}, F1-score: {f1_scores[i]}\")\n",
        "    print()"
      ],
      "metadata": {
        "id": "zpeePThz9V2T",
        "colab": {
          "base_uri": "https://localhost:8080/"
        },
        "outputId": "dd97f9a5-c56f-49a3-df90-0473eba7e497"
      },
      "execution_count": null,
      "outputs": [
        {
          "output_type": "stream",
          "name": "stdout",
          "text": [
            "Dataset: UDP\n",
            "Accuracy: 0.9984321335938512, F1-score: 0.9984013370802151\n",
            "\n",
            "Dataset: UDPLag\n",
            "Accuracy: 0.9982141995270042, F1-score: 0.9982059668901001\n",
            "\n",
            "Dataset: Portmap\n",
            "Accuracy: 0.9995826703878558, F1-score: 0.9995831070099517\n",
            "\n"
          ]
        }
      ]
    },
    {
      "cell_type": "markdown",
      "source": [
        "# Create plots to compare performance"
      ],
      "metadata": {
        "id": "uDMk1rNF9Ya3"
      }
    },
    {
      "cell_type": "code",
      "source": [
        "# Create plots to compare performance\n",
        "plt.figure(figsize=(10, 5))\n",
        "\n",
        "plt.subplot(1, 2, 1)\n",
        "plt.bar(dataset_names, accuracies)\n",
        "plt.xlabel('Dataset')\n",
        "plt.ylabel('Accuracy')\n",
        "plt.title('Accuracy Comparison')\n",
        "\n",
        "plt.subplot(1, 2, 2)\n",
        "plt.bar(dataset_names, f1_scores)\n",
        "plt.xlabel('Dataset')\n",
        "plt.ylabel('F1-score')\n",
        "plt.title('F1-score Comparison')\n",
        "\n",
        "plt.tight_layout()\n",
        "plt.show()"
      ],
      "metadata": {
        "id": "osdXk0VS9aeY",
        "colab": {
          "base_uri": "https://localhost:8080/",
          "height": 507
        },
        "outputId": "16b9ca95-afce-4600-c9d6-b1fa536f5eb8"
      },
      "execution_count": null,
      "outputs": [
        {
          "output_type": "display_data",
          "data": {
            "text/plain": [
              "<Figure size 1000x500 with 2 Axes>"
            ],
            "image/png": "[encoded data removed]"
          },
          "metadata": {}
        }
      ]
    }
  ]
}